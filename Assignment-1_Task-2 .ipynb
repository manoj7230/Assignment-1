{
 "cells": [
  {
   "cell_type": "code",
   "execution_count": null,
   "id": "9b4d479e-8adf-4137-bcb0-8e09184b617d",
   "metadata": {},
   "outputs": [],
   "source": []
  }
 ],
 "metadata": {
  "kernelspec": {
   "display_name": "",
   "name": ""
  },
  "language_info": {
   "name": ""
  }
 },
 "nbformat": 4,
 "nbformat_minor": 5
}
