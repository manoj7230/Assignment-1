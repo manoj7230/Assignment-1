{
 "cells": [
  {
   "cell_type": "markdown",
   "id": "77541cf7-d1ed-49b9-838a-e8190365cfe2",
   "metadata": {},
   "source": [
    "# Task 1 Perform Basic Mathematical Operations"
   ]
  },
  {
   "cell_type": "code",
   "execution_count": 5,
   "id": "8b30e2da-a53e-4ff7-9dae-6b1b0fa36d95",
   "metadata": {},
   "outputs": [
    {
     "name": "stdout",
     "output_type": "stream",
     "text": [
      "99\n",
      "31\n",
      "2210\n",
      "1.911764705882353\n"
     ]
    }
   ],
   "source": [
    "num1=65\n",
    "num2=34\n",
    "addition = num1 + num2\n",
    "addition\n",
    "subtraction = num1 - num2\n",
    "subtraction\n",
    "multiplication = num1 * num2\n",
    "multiplication\n",
    "division = num1 / num2\n",
    "division\n",
    "print(addition)\n",
    "print(subtraction)\n",
    "print(multiplication)\n",
    "print(division)"
   ]
  },
  {
   "cell_type": "code",
   "execution_count": null,
   "id": "0e95be41-d87e-4dc7-b6e8-ef5b45666ed6",
   "metadata": {},
   "outputs": [],
   "source": []
  }
 ],
 "metadata": {
  "kernelspec": {
   "display_name": "Python [conda env:base] *",
   "language": "python",
   "name": "conda-base-py"
  },
  "language_info": {
   "codemirror_mode": {
    "name": "ipython",
    "version": 3
   },
   "file_extension": ".py",
   "mimetype": "text/x-python",
   "name": "python",
   "nbconvert_exporter": "python",
   "pygments_lexer": "ipython3",
   "version": "3.12.7"
  }
 },
 "nbformat": 4,
 "nbformat_minor": 5
}
